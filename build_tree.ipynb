{
 "metadata": {
  "language_info": {
   "codemirror_mode": {
    "name": "ipython",
    "version": 3
   },
   "file_extension": ".py",
   "mimetype": "text/x-python",
   "name": "python",
   "nbconvert_exporter": "python",
   "pygments_lexer": "ipython3",
   "version": "3.7.6"
  },
  "orig_nbformat": 4,
  "kernelspec": {
   "name": "python3",
   "display_name": "Python 3.7.6 64-bit ('base': conda)"
  },
  "interpreter": {
   "hash": "07efdcd4b820c98a756949507a4d29d7862823915ec7477944641bea022f4f62"
  }
 },
 "nbformat": 4,
 "nbformat_minor": 2,
 "cells": [
  {
   "cell_type": "code",
   "execution_count": 1,
   "metadata": {},
   "outputs": [],
   "source": [
    "import numpy as np\n",
    "import pandas as pd\n",
    "df = pd.read_table('E:\\张肖\\sample_test.txt',header = None)\n",
    "df.rename(columns={0:'tra'}, inplace = True)\n"
   ]
  },
  {
   "source": [
    "### AB知识建立"
   ],
   "cell_type": "markdown",
   "metadata": {}
  },
  {
   "cell_type": "code",
   "execution_count": 2,
   "metadata": {},
   "outputs": [
    {
     "output_type": "execute_result",
     "data": {
      "text/plain": [
       "                    tra\n",
       "0           t1 a3 b2 a1\n",
       "1              t2 b2 a2\n",
       "2        t3 b3 a1 a5 b4\n",
       "3        t4 a1 a2 b3 b4\n",
       "4           t5 b2 a1 a3\n",
       "5              t6 b2 a5\n",
       "6  t7 a1 b1 a3 a4 a5 b4\n",
       "7              t8 b4 a2"
      ],
      "text/html": "<div>\n<style scoped>\n    .dataframe tbody tr th:only-of-type {\n        vertical-align: middle;\n    }\n\n    .dataframe tbody tr th {\n        vertical-align: top;\n    }\n\n    .dataframe thead th {\n        text-align: right;\n    }\n</style>\n<table border=\"1\" class=\"dataframe\">\n  <thead>\n    <tr style=\"text-align: right;\">\n      <th></th>\n      <th>tra</th>\n    </tr>\n  </thead>\n  <tbody>\n    <tr>\n      <th>0</th>\n      <td>t1 a3 b2 a1</td>\n    </tr>\n    <tr>\n      <th>1</th>\n      <td>t2 b2 a2</td>\n    </tr>\n    <tr>\n      <th>2</th>\n      <td>t3 b3 a1 a5 b4</td>\n    </tr>\n    <tr>\n      <th>3</th>\n      <td>t4 a1 a2 b3 b4</td>\n    </tr>\n    <tr>\n      <th>4</th>\n      <td>t5 b2 a1 a3</td>\n    </tr>\n    <tr>\n      <th>5</th>\n      <td>t6 b2 a5</td>\n    </tr>\n    <tr>\n      <th>6</th>\n      <td>t7 a1 b1 a3 a4 a5 b4</td>\n    </tr>\n    <tr>\n      <th>7</th>\n      <td>t8 b4 a2</td>\n    </tr>\n  </tbody>\n</table>\n</div>"
     },
     "metadata": {},
     "execution_count": 2
    }
   ],
   "source": [
    "A = {}\n",
    "B = {}\n",
    "df"
   ]
  },
  {
   "cell_type": "code",
   "execution_count": 3,
   "metadata": {},
   "outputs": [
    {
     "output_type": "execute_result",
     "data": {
      "text/plain": [
       "{'t1': ['a3', 'a1', [1, 3]],\n",
       " 't2': ['a2', [2]],\n",
       " 't3': ['a1', 'a5', [2, 3]],\n",
       " 't4': ['a1', 'a2', [1, 2]],\n",
       " 't5': ['a1', 'a3', [2, 3]],\n",
       " 't6': ['a5', [2]],\n",
       " 't7': ['a1', 'a3', 'a4', 'a5', [1, 3, 4, 5]],\n",
       " 't8': ['a2', [2]]}"
      ]
     },
     "metadata": {},
     "execution_count": 3
    }
   ],
   "source": [
    "t_A = {}\n",
    "t_B = {}\n",
    "for i in range(0,df.size):\n",
    "    t = df['tra'][i].split()    \n",
    "    t_a = []\n",
    "    t_b = []\n",
    "    t_a_loc = []\n",
    "    t_b_loc = []\n",
    "    for j in range(0, len(t) ):\n",
    "        if t[j].startswith('a'):\n",
    "            t_a.append(t[j])\n",
    "            t_a_loc.append(j) \n",
    "        if t[j].startswith('b'):\n",
    "            t_b.append(t[j]) \n",
    "            t_b_loc.append(j)\n",
    "    t_a.append(t_a_loc)\n",
    "    t_b.append(t_b_loc)\n",
    "    t_A.update({t[0]:t_a})\n",
    "    t_B.update({t[0]:t_b})\n",
    "t_A"
   ]
  },
  {
   "cell_type": "code",
   "execution_count": 4,
   "metadata": {},
   "outputs": [
    {
     "output_type": "execute_result",
     "data": {
      "text/plain": [
       "{'t1': ['b2', [2]],\n",
       " 't2': ['b2', [1]],\n",
       " 't3': ['b3', 'b4', [1, 4]],\n",
       " 't4': ['b3', 'b4', [3, 4]],\n",
       " 't5': ['b2', [1]],\n",
       " 't6': ['b2', [1]],\n",
       " 't7': ['b1', 'b4', [2, 6]],\n",
       " 't8': ['b4', [1]]}"
      ]
     },
     "metadata": {},
     "execution_count": 4
    }
   ],
   "source": [
    "t_B"
   ]
  },
  {
   "source": [
    "### 建第二层的树"
   ],
   "cell_type": "markdown",
   "metadata": {}
  },
  {
   "cell_type": "code",
   "execution_count": 18,
   "metadata": {},
   "outputs": [
    {
     "output_type": "execute_result",
     "data": {
      "text/plain": [
       "{('a3', 'a1'): {'t1': [1, 3]},\n",
       " ('a2',): {'t8': [2]},\n",
       " ('a1', 'a5'): {'t3': [2, 3]},\n",
       " ('a1', 'a2'): {'t4': [1, 2]},\n",
       " ('a1', 'a3'): {'t5': [2, 3]},\n",
       " ('a5',): {'t6': [2]},\n",
       " ('a1', 'a3', 'a4', 'a5'): {'t7': [1, 3, 4, 5]}}"
      ]
     },
     "metadata": {},
     "execution_count": 18
    }
   ],
   "source": [
    "second = {}\n",
    "#lis_tra_key = []\n",
    "\n",
    "\n",
    "for k,v in t_A.items():  #考虑A中可能有重复轨迹线段，但是轨迹号不同\n",
    "    t_key = tuple(v[:-1])  #将轨迹以tuple存储，用于做字典的key\n",
    "    t_val = v[-1]\n",
    "    lis_tra = []\n",
    "    \n",
    "        \n",
    "       \n",
    "    second[t_key] = {k:t_val}\n",
    "\n",
    "for k,v in t_B.items():\n",
    "    lis_tra = []\n",
    "    t_key = tuple(v[:-1])\n",
    "    t_val = v[-1]\n",
    "    if t_key in second.keys():\n",
    "        lis_tra.append(t_val)\n",
    "        lis_tra.append(second[t_key])\n",
    "        second[t_key] = {lis_tra}\n",
    "second"
   ]
  },
  {
   "cell_type": "code",
   "execution_count": 38,
   "metadata": {},
   "outputs": [
    {
     "output_type": "execute_result",
     "data": {
      "text/plain": [
       "{('a3', 'a1'): [{'t1': [1, 3]}],\n",
       " ('a2',): [{'t2': [2]}, {'t8': [2]}],\n",
       " ('a1', 'a5'): [{'t3': [2, 3]}],\n",
       " ('a1', 'a2'): [{'t4': [1, 2]}],\n",
       " ('a1', 'a3'): [{'t5': [2, 3]}],\n",
       " ('a5',): [{'t6': [2]}],\n",
       " ('a1', 'a3', 'a4', 'a5'): [{'t7': [1, 3, 4, 5]}],\n",
       " ('b2',): [{'t1': [2]}, {'t2': [1]}, {'t5': [1]}, {'t6': [1]}],\n",
       " ('b3', 'b4'): [{'t3': [1, 4]}, {'t4': [3, 4]}],\n",
       " ('b1', 'b4'): [{'t7': [2, 6]}],\n",
       " ('b4',): [{'t8': [1]}]}"
      ]
     },
     "metadata": {},
     "execution_count": 38
    }
   ],
   "source": [
    "second = {}  #存储第二层节点轨迹信息\n",
    "for k,v in t_A.items():  #考虑A中可能有重复轨迹线段，但是轨迹号不同\n",
    "    t_key = tuple(v[:-1])  #将轨迹以tuple存储，用于做字典的key\n",
    "    t_val = v[-1]\n",
    "    lis_tra = []\n",
    "    if t_key in second.keys():\n",
    "        lis_tem = []\n",
    "        for i in second[t_key]:  #将原先列表中的元素位置（以字典形式存储的）提取出来，避免[{},{}]这种不好看格式\n",
    "            # print('----i:',i)\n",
    "            lis_tem.append(i)\n",
    "        lis_tra.append(lis_tem)        \n",
    "        # print('---second[t_key]:',second[t_key])\n",
    "        # print('----t_key:',t_key)\n",
    "        # print('----t_val:',t_val)\n",
    "        # print('----k:',k)\n",
    "        lis_tem.append({k:t_val})\n",
    "        # print('----lis_tem:',lis_tem)\n",
    "        # print('----lis_tra',lis_tra)     \n",
    "        second[t_key] = lis_tem        \n",
    "    else:        \n",
    "        lis_tra.append({k:t_val})\n",
    "        second[t_key] = lis_tra        \n",
    "\n",
    "for k,v in t_B.items():  #考虑A中可能有重复轨迹线段，但是轨迹号不同\n",
    "    t_key = tuple(v[:-1])  #将轨迹以tuple存储，用于做字典的key\n",
    "    t_val = v[-1]\n",
    "    lis_tra = []\n",
    "    if t_key in second.keys():\n",
    "        lis_tem = []\n",
    "        for i in second[t_key]:              \n",
    "            lis_tem.append(i)\n",
    "        lis_tra.append(lis_tem)        \n",
    "       \n",
    "        lis_tem.append({k:t_val})           \n",
    "        second[t_key] = lis_tem        \n",
    "    else:        \n",
    "        lis_tra.append({k:t_val})\n",
    "        second[t_key] = lis_tra\n",
    "second"
   ]
  },
  {
   "cell_type": "code",
   "execution_count": 38,
   "metadata": {},
   "outputs": [],
   "source": []
  },
  {
   "cell_type": "code",
   "execution_count": 40,
   "metadata": {},
   "outputs": [],
   "source": []
  },
  {
   "cell_type": "code",
   "execution_count": null,
   "metadata": {},
   "outputs": [],
   "source": []
  }
 ]
}